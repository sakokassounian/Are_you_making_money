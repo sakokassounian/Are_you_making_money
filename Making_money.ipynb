{
 "cells": [
  {
   "cell_type": "markdown",
   "id": "particular-memorabilia",
   "metadata": {},
   "source": [
    "# Are you making money?  \n",
    "\n",
    "In our daily activities, we have different things that we have to do, and amongst them is paying for rent and utility bills, Netflix subscription, buying groceries, and several other types of transactions. Of course, we keep the receipts from most of the transactions and from time to time we go back to check the balance sheet prepared by out banks. But most of the time banks don't offer any rigorous seasonal analysis which can help us understand whether we are gaining or loosing money on a global scale. They simply give you the values of the transactions or when you get your salary or someone transfers money to you. \n",
    "\n",
    "In this script, you will get a set of visualizations which will help you understand how you spending are periodically, and it can help you make better life decisions.\n",
    "\n",
    "Enjoy!\n",
    "\n",
    "PS: In the script there is a section where I discuss how to handle external cash as well ... so keep reading ;) "
   ]
  },
  {
   "cell_type": "markdown",
   "id": "roman-secretariat",
   "metadata": {},
   "source": [
    "### 1 - Import functions "
   ]
  },
  {
   "cell_type": "code",
   "execution_count": 1,
   "id": "established-tongue",
   "metadata": {},
   "outputs": [],
   "source": [
    "#Impoorting required functions\n",
    "import numpy as np\n",
    "import matplotlib.pyplot as plt\n",
    "import pandas as pd\n",
    "import seaborn\n",
    "import datetime as dt\n",
    "from scipy.signal import savgol_filter as SF\n"
   ]
  },
  {
   "cell_type": "markdown",
   "id": "alternative-cable",
   "metadata": {},
   "source": [
    "The *SF* is the Savitzky-Golay filter, which  is a nice smoothing algorithm which we will use. For the mathematical details, check  https://en.wikipedia.org/wiki/Savitzky%E2%80%93Golay_filter"
   ]
  },
  {
   "cell_type": "markdown",
   "id": "reverse-kitty",
   "metadata": {},
   "source": [
    "### 2 - Import your data \n",
    "\n",
    "I have set in this repository a randomly generated transaction list, where the person has a salary of 20000(assume any currency) and pays a monthly of 1500 for rent. \n",
    "\n",
    "To keep the approach simple, I did not generate random transaction time only dates. "
   ]
  },
  {
   "cell_type": "code",
   "execution_count": 39,
   "id": "spanish-island",
   "metadata": {},
   "outputs": [
    {
     "data": {
      "text/html": [
       "<div>\n",
       "<style scoped>\n",
       "    .dataframe tbody tr th:only-of-type {\n",
       "        vertical-align: middle;\n",
       "    }\n",
       "\n",
       "    .dataframe tbody tr th {\n",
       "        vertical-align: top;\n",
       "    }\n",
       "\n",
       "    .dataframe thead th {\n",
       "        text-align: right;\n",
       "    }\n",
       "</style>\n",
       "<table border=\"1\" class=\"dataframe\">\n",
       "  <thead>\n",
       "    <tr style=\"text-align: right;\">\n",
       "      <th></th>\n",
       "      <th>date</th>\n",
       "      <th>trans</th>\n",
       "    </tr>\n",
       "  </thead>\n",
       "  <tbody>\n",
       "    <tr>\n",
       "      <th>0</th>\n",
       "      <td>2020-11-26</td>\n",
       "      <td>18000.0</td>\n",
       "    </tr>\n",
       "    <tr>\n",
       "      <th>1</th>\n",
       "      <td>2020-11-26</td>\n",
       "      <td>-120.0</td>\n",
       "    </tr>\n",
       "    <tr>\n",
       "      <th>2</th>\n",
       "      <td>2020-11-27</td>\n",
       "      <td>-500.0</td>\n",
       "    </tr>\n",
       "    <tr>\n",
       "      <th>3</th>\n",
       "      <td>2020-11-30</td>\n",
       "      <td>-18.0</td>\n",
       "    </tr>\n",
       "    <tr>\n",
       "      <th>4</th>\n",
       "      <td>2020-11-30</td>\n",
       "      <td>-44.0</td>\n",
       "    </tr>\n",
       "    <tr>\n",
       "      <th>...</th>\n",
       "      <td>...</td>\n",
       "      <td>...</td>\n",
       "    </tr>\n",
       "    <tr>\n",
       "      <th>332</th>\n",
       "      <td>2021-05-16</td>\n",
       "      <td>-312.1</td>\n",
       "    </tr>\n",
       "    <tr>\n",
       "      <th>333</th>\n",
       "      <td>2021-05-17</td>\n",
       "      <td>-126.3</td>\n",
       "    </tr>\n",
       "    <tr>\n",
       "      <th>334</th>\n",
       "      <td>2021-05-18</td>\n",
       "      <td>-243.7</td>\n",
       "    </tr>\n",
       "    <tr>\n",
       "      <th>335</th>\n",
       "      <td>2021-05-19</td>\n",
       "      <td>-125.2</td>\n",
       "    </tr>\n",
       "    <tr>\n",
       "      <th>336</th>\n",
       "      <td>2021-05-20</td>\n",
       "      <td>-108.2</td>\n",
       "    </tr>\n",
       "  </tbody>\n",
       "</table>\n",
       "<p>337 rows × 2 columns</p>\n",
       "</div>"
      ],
      "text/plain": [
       "           date    trans\n",
       "0    2020-11-26  18000.0\n",
       "1    2020-11-26   -120.0\n",
       "2    2020-11-27   -500.0\n",
       "3    2020-11-30    -18.0\n",
       "4    2020-11-30    -44.0\n",
       "..          ...      ...\n",
       "332  2021-05-16   -312.1\n",
       "333  2021-05-17   -126.3\n",
       "334  2021-05-18   -243.7\n",
       "335  2021-05-19   -125.2\n",
       "336  2021-05-20   -108.2\n",
       "\n",
       "[337 rows x 2 columns]"
      ]
     },
     "execution_count": 39,
     "metadata": {},
     "output_type": "execute_result"
    }
   ],
   "source": [
    "#The file you get from your bank or app\n",
    "data_comp = pd.read_csv(\"expenses.csv\")\n",
    "\n",
    "data_comp"
   ]
  },
  {
   "cell_type": "code",
   "execution_count": 40,
   "id": "modular-intensity",
   "metadata": {},
   "outputs": [
    {
     "data": {
      "text/plain": [
       "<AxesSubplot:>"
      ]
     },
     "execution_count": 40,
     "metadata": {},
     "output_type": "execute_result"
    },
    {
     "data": {
      "image/png": "[encoded data removed]",
      "text/plain": [
       "<Figure size 720x360 with 1 Axes>"
      ]
     },
     "metadata": {
      "needs_background": "light"
     },
     "output_type": "display_data"
    }
   ],
   "source": [
    "data_comp.plot(figsize=(10,5))"
   ]
  },
  {
   "cell_type": "markdown",
   "id": "laden-apparatus",
   "metadata": {},
   "source": [
    "\n",
    "### 3 - Pre-Processing\n",
    "\n",
    "We can see that we can have several transactions on a specific specific day, so it is important to aggregate them based on a specific period. \n",
    "\n",
    "Let's clean it up a little, where we will convert the dates into timestamps, and sort them. Originally they are simply objects. "
   ]
  },
  {
   "cell_type": "code",
   "execution_count": 38,
   "id": "auburn-process",
   "metadata": {},
   "outputs": [
    {
     "name": "stdout",
     "output_type": "stream",
     "text": [
      "date      object\n",
      "trans    float64\n",
      "dtype: object\n"
     ]
    }
   ],
   "source": [
    "print(data_comp.dtypes)"
   ]
  },
  {
   "cell_type": "markdown",
   "id": "grave-supplement",
   "metadata": {},
   "source": [
    "Now Let's convert the date column into pandas timestamps"
   ]
  },
  {
   "cell_type": "code",
   "execution_count": 4,
   "id": "successful-harmony",
   "metadata": {},
   "outputs": [
    {
     "data": {
      "text/plain": [
       "date     datetime64[ns]\n",
       "trans           float64\n",
       "dtype: object"
      ]
     },
     "execution_count": 4,
     "metadata": {},
     "output_type": "execute_result"
    }
   ],
   "source": [
    "data_comp.date=pd.to_datetime(data_comp.date)\n",
    "data_comp.dtypes"
   ]
  },
  {
   "cell_type": "markdown",
   "id": "crucial-import",
   "metadata": {},
   "source": [
    "It's also very important to aggregate the transactions based on a period. In our case we will aggregate them based on the available dates."
   ]
  },
  {
   "cell_type": "code",
   "execution_count": 5,
   "id": "fifty-mambo",
   "metadata": {},
   "outputs": [],
   "source": [
    "data_comp.sort_values(by=['date'],inplace=True)\n",
    "data_daily = data_comp.groupby(\"date\").agg({'trans':'sum'})\n"
   ]
  },
  {
   "cell_type": "markdown",
   "id": "boolean-vancouver",
   "metadata": {},
   "source": [
    "The user can select a different set of periods for aggregation and periodic distribution. Here I will choose for it to be daily. Pandas offers the options of generating dates based on letters to get to know the options, check this website.   https://pandas.pydata.org/docs/user_guide/timeseries.html#timeseries-offset-aliases"
   ]
  },
  {
   "cell_type": "code",
   "execution_count": 6,
   "id": "artistic-drama",
   "metadata": {},
   "outputs": [],
   "source": [
    "periodicity  = 'D' "
   ]
  },
  {
   "cell_type": "code",
   "execution_count": 7,
   "id": "colonial-trigger",
   "metadata": {},
   "outputs": [
    {
     "data": {
      "text/html": [
       "<div>\n",
       "<style scoped>\n",
       "    .dataframe tbody tr th:only-of-type {\n",
       "        vertical-align: middle;\n",
       "    }\n",
       "\n",
       "    .dataframe tbody tr th {\n",
       "        vertical-align: top;\n",
       "    }\n",
       "\n",
       "    .dataframe thead th {\n",
       "        text-align: right;\n",
       "    }\n",
       "</style>\n",
       "<table border=\"1\" class=\"dataframe\">\n",
       "  <thead>\n",
       "    <tr style=\"text-align: right;\">\n",
       "      <th></th>\n",
       "      <th>trans</th>\n",
       "    </tr>\n",
       "  </thead>\n",
       "  <tbody>\n",
       "    <tr>\n",
       "      <th>2020-11-26</th>\n",
       "      <td>17880.0</td>\n",
       "    </tr>\n",
       "    <tr>\n",
       "      <th>2020-11-27</th>\n",
       "      <td>-500.0</td>\n",
       "    </tr>\n",
       "    <tr>\n",
       "      <th>2020-11-28</th>\n",
       "      <td>0.0</td>\n",
       "    </tr>\n",
       "    <tr>\n",
       "      <th>2020-11-29</th>\n",
       "      <td>0.0</td>\n",
       "    </tr>\n",
       "    <tr>\n",
       "      <th>2020-11-30</th>\n",
       "      <td>-262.0</td>\n",
       "    </tr>\n",
       "    <tr>\n",
       "      <th>...</th>\n",
       "      <td>...</td>\n",
       "    </tr>\n",
       "    <tr>\n",
       "      <th>2021-05-16</th>\n",
       "      <td>-312.1</td>\n",
       "    </tr>\n",
       "    <tr>\n",
       "      <th>2021-05-17</th>\n",
       "      <td>-126.3</td>\n",
       "    </tr>\n",
       "    <tr>\n",
       "      <th>2021-05-18</th>\n",
       "      <td>-243.7</td>\n",
       "    </tr>\n",
       "    <tr>\n",
       "      <th>2021-05-19</th>\n",
       "      <td>-125.2</td>\n",
       "    </tr>\n",
       "    <tr>\n",
       "      <th>2021-05-20</th>\n",
       "      <td>-108.2</td>\n",
       "    </tr>\n",
       "  </tbody>\n",
       "</table>\n",
       "<p>176 rows × 1 columns</p>\n",
       "</div>"
      ],
      "text/plain": [
       "              trans\n",
       "2020-11-26  17880.0\n",
       "2020-11-27   -500.0\n",
       "2020-11-28      0.0\n",
       "2020-11-29      0.0\n",
       "2020-11-30   -262.0\n",
       "...             ...\n",
       "2021-05-16   -312.1\n",
       "2021-05-17   -126.3\n",
       "2021-05-18   -243.7\n",
       "2021-05-19   -125.2\n",
       "2021-05-20   -108.2\n",
       "\n",
       "[176 rows x 1 columns]"
      ]
     },
     "execution_count": 7,
     "metadata": {},
     "output_type": "execute_result"
    }
   ],
   "source": [
    "date_r = pd.date_range(start = data_daily.index[0],\n",
    "                       end = data_daily.index[-1],\n",
    "                       freq = periodicity)\n",
    "\n",
    "data = data_daily.reindex(date_r,fill_value=0)\n",
    "data"
   ]
  },
  {
   "cell_type": "code",
   "execution_count": 8,
   "id": "overall-telephone",
   "metadata": {},
   "outputs": [],
   "source": [
    "data = data_comp.groupby(\"date\").agg({'trans':'sum'})\n",
    "data.index = list(data.index)"
   ]
  },
  {
   "cell_type": "markdown",
   "id": "continued-uniform",
   "metadata": {},
   "source": [
    "Let's assume that you had an old bank account and before you arrived to a new country, you pulled out the remaining of your cash from that bank account and took advantage of the market's currency exchange rate and not paying the transfer fees for payments. To include that in your new transactions, you can simply distributed evenly on you periodic transactions after checking what remained. This can be also assumed as you starting seed money for your new life :D ...  "
   ]
  },
  {
   "cell_type": "code",
   "execution_count": 9,
   "id": "removable-course",
   "metadata": {
    "scrolled": false
   },
   "outputs": [
    {
     "data": {
      "text/html": [
       "<div>\n",
       "<style scoped>\n",
       "    .dataframe tbody tr th:only-of-type {\n",
       "        vertical-align: middle;\n",
       "    }\n",
       "\n",
       "    .dataframe tbody tr th {\n",
       "        vertical-align: top;\n",
       "    }\n",
       "\n",
       "    .dataframe thead th {\n",
       "        text-align: right;\n",
       "    }\n",
       "</style>\n",
       "<table border=\"1\" class=\"dataframe\">\n",
       "  <thead>\n",
       "    <tr style=\"text-align: right;\">\n",
       "      <th></th>\n",
       "      <th>trans</th>\n",
       "      <th>external</th>\n",
       "      <th>trans_total</th>\n",
       "    </tr>\n",
       "  </thead>\n",
       "  <tbody>\n",
       "    <tr>\n",
       "      <th>2020-11-26</th>\n",
       "      <td>17880.0</td>\n",
       "      <td>-12.738854</td>\n",
       "      <td>17867.261146</td>\n",
       "    </tr>\n",
       "    <tr>\n",
       "      <th>2020-11-27</th>\n",
       "      <td>-500.0</td>\n",
       "      <td>-12.738854</td>\n",
       "      <td>-512.738854</td>\n",
       "    </tr>\n",
       "    <tr>\n",
       "      <th>2020-11-30</th>\n",
       "      <td>-262.0</td>\n",
       "      <td>-12.738854</td>\n",
       "      <td>-274.738854</td>\n",
       "    </tr>\n",
       "    <tr>\n",
       "      <th>2020-12-01</th>\n",
       "      <td>16400.0</td>\n",
       "      <td>-12.738854</td>\n",
       "      <td>16387.261146</td>\n",
       "    </tr>\n",
       "    <tr>\n",
       "      <th>2020-12-02</th>\n",
       "      <td>-617.0</td>\n",
       "      <td>-12.738854</td>\n",
       "      <td>-629.738854</td>\n",
       "    </tr>\n",
       "    <tr>\n",
       "      <th>...</th>\n",
       "      <td>...</td>\n",
       "      <td>...</td>\n",
       "      <td>...</td>\n",
       "    </tr>\n",
       "    <tr>\n",
       "      <th>2021-05-16</th>\n",
       "      <td>-312.1</td>\n",
       "      <td>-12.738854</td>\n",
       "      <td>-324.838854</td>\n",
       "    </tr>\n",
       "    <tr>\n",
       "      <th>2021-05-17</th>\n",
       "      <td>-126.3</td>\n",
       "      <td>-12.738854</td>\n",
       "      <td>-139.038854</td>\n",
       "    </tr>\n",
       "    <tr>\n",
       "      <th>2021-05-18</th>\n",
       "      <td>-243.7</td>\n",
       "      <td>-12.738854</td>\n",
       "      <td>-256.438854</td>\n",
       "    </tr>\n",
       "    <tr>\n",
       "      <th>2021-05-19</th>\n",
       "      <td>-125.2</td>\n",
       "      <td>-12.738854</td>\n",
       "      <td>-137.938854</td>\n",
       "    </tr>\n",
       "    <tr>\n",
       "      <th>2021-05-20</th>\n",
       "      <td>-108.2</td>\n",
       "      <td>-12.738854</td>\n",
       "      <td>-120.938854</td>\n",
       "    </tr>\n",
       "  </tbody>\n",
       "</table>\n",
       "<p>158 rows × 3 columns</p>\n",
       "</div>"
      ],
      "text/plain": [
       "              trans   external   trans_total\n",
       "2020-11-26  17880.0 -12.738854  17867.261146\n",
       "2020-11-27   -500.0 -12.738854   -512.738854\n",
       "2020-11-30   -262.0 -12.738854   -274.738854\n",
       "2020-12-01  16400.0 -12.738854  16387.261146\n",
       "2020-12-02   -617.0 -12.738854   -629.738854\n",
       "...             ...        ...           ...\n",
       "2021-05-16   -312.1 -12.738854   -324.838854\n",
       "2021-05-17   -126.3 -12.738854   -139.038854\n",
       "2021-05-18   -243.7 -12.738854   -256.438854\n",
       "2021-05-19   -125.2 -12.738854   -137.938854\n",
       "2021-05-20   -108.2 -12.738854   -120.938854\n",
       "\n",
       "[158 rows x 3 columns]"
      ]
     },
     "execution_count": 9,
     "metadata": {},
     "output_type": "execute_result"
    }
   ],
   "source": [
    "#cash    \n",
    "current =  5000 #The most recent available cash\n",
    "max_budge = 7000 #The original amount\n",
    "external = max_budge - current  \n",
    "external = external / (len(data) - 1)\n",
    "external = len(data)*[-external ]\n",
    "\n",
    "#Add it \n",
    "#total money\n",
    "data['external'] = external\n",
    "data['trans_total'] = data.trans + data.external\n",
    "data"
   ]
  },
  {
   "cell_type": "markdown",
   "id": "distributed-behavior",
   "metadata": {},
   "source": [
    "### 4 - Crunching the numbers \n",
    "\n",
    "Now we will do some calculations to check how much you have earned and spent ... In other words, we'll check the profit. Basically, are you spending more than you should or are you saving money? \n",
    "\n",
    "Here you should be careful ... There are some calculations to be done. There are 3 main essential values to be calculated: \n",
    "\n",
    "1. ***CS***: The cumulative sum of transactions\n",
    "2. ***RM***: The remainder, or how much money you had plus the cumulative transactions, and this tells you about what's happening\n",
    "3. ***PPC***: Periodic percentage change in your remainder\n",
    "\n",
    "    $\\large PPC_{i} = \\Large\\frac{RM_{i}-RM_{i-1}}{RM_{i-1}}$ = $\\Large\\frac{RM_{i}}{RM_{i-1}}$ $\\large-1$ "
   ]
  },
  {
   "cell_type": "code",
   "execution_count": 10,
   "id": "personalized-scheduling",
   "metadata": {},
   "outputs": [
    {
     "data": {
      "text/html": [
       "<div>\n",
       "<style scoped>\n",
       "    .dataframe tbody tr th:only-of-type {\n",
       "        vertical-align: middle;\n",
       "    }\n",
       "\n",
       "    .dataframe tbody tr th {\n",
       "        vertical-align: top;\n",
       "    }\n",
       "\n",
       "    .dataframe thead th {\n",
       "        text-align: right;\n",
       "    }\n",
       "</style>\n",
       "<table border=\"1\" class=\"dataframe\">\n",
       "  <thead>\n",
       "    <tr style=\"text-align: right;\">\n",
       "      <th></th>\n",
       "      <th>trans</th>\n",
       "      <th>external</th>\n",
       "      <th>trans_total</th>\n",
       "      <th>CS</th>\n",
       "      <th>RM</th>\n",
       "      <th>PPC</th>\n",
       "    </tr>\n",
       "  </thead>\n",
       "  <tbody>\n",
       "    <tr>\n",
       "      <th>2020-11-26</th>\n",
       "      <td>17880.0</td>\n",
       "      <td>-12.738854</td>\n",
       "      <td>17867.261146</td>\n",
       "      <td>17867.261146</td>\n",
       "      <td>24867.261146</td>\n",
       "      <td>NaN</td>\n",
       "    </tr>\n",
       "    <tr>\n",
       "      <th>2020-11-27</th>\n",
       "      <td>-500.0</td>\n",
       "      <td>-12.738854</td>\n",
       "      <td>-512.738854</td>\n",
       "      <td>17354.522293</td>\n",
       "      <td>24354.522293</td>\n",
       "      <td>-0.020619</td>\n",
       "    </tr>\n",
       "    <tr>\n",
       "      <th>2020-11-30</th>\n",
       "      <td>-262.0</td>\n",
       "      <td>-12.738854</td>\n",
       "      <td>-274.738854</td>\n",
       "      <td>17079.783439</td>\n",
       "      <td>24079.783439</td>\n",
       "      <td>-0.011281</td>\n",
       "    </tr>\n",
       "    <tr>\n",
       "      <th>2020-12-01</th>\n",
       "      <td>16400.0</td>\n",
       "      <td>-12.738854</td>\n",
       "      <td>16387.261146</td>\n",
       "      <td>33467.044586</td>\n",
       "      <td>40467.044586</td>\n",
       "      <td>0.680540</td>\n",
       "    </tr>\n",
       "    <tr>\n",
       "      <th>2020-12-02</th>\n",
       "      <td>-617.0</td>\n",
       "      <td>-12.738854</td>\n",
       "      <td>-629.738854</td>\n",
       "      <td>32837.305732</td>\n",
       "      <td>39837.305732</td>\n",
       "      <td>-0.015562</td>\n",
       "    </tr>\n",
       "    <tr>\n",
       "      <th>...</th>\n",
       "      <td>...</td>\n",
       "      <td>...</td>\n",
       "      <td>...</td>\n",
       "      <td>...</td>\n",
       "      <td>...</td>\n",
       "      <td>...</td>\n",
       "    </tr>\n",
       "    <tr>\n",
       "      <th>2021-05-16</th>\n",
       "      <td>-312.1</td>\n",
       "      <td>-12.738854</td>\n",
       "      <td>-324.838854</td>\n",
       "      <td>9805.516561</td>\n",
       "      <td>16805.516561</td>\n",
       "      <td>-0.018963</td>\n",
       "    </tr>\n",
       "    <tr>\n",
       "      <th>2021-05-17</th>\n",
       "      <td>-126.3</td>\n",
       "      <td>-12.738854</td>\n",
       "      <td>-139.038854</td>\n",
       "      <td>9666.477707</td>\n",
       "      <td>16666.477707</td>\n",
       "      <td>-0.008273</td>\n",
       "    </tr>\n",
       "    <tr>\n",
       "      <th>2021-05-18</th>\n",
       "      <td>-243.7</td>\n",
       "      <td>-12.738854</td>\n",
       "      <td>-256.438854</td>\n",
       "      <td>9410.038854</td>\n",
       "      <td>16410.038854</td>\n",
       "      <td>-0.015387</td>\n",
       "    </tr>\n",
       "    <tr>\n",
       "      <th>2021-05-19</th>\n",
       "      <td>-125.2</td>\n",
       "      <td>-12.738854</td>\n",
       "      <td>-137.938854</td>\n",
       "      <td>9272.100000</td>\n",
       "      <td>16272.100000</td>\n",
       "      <td>-0.008406</td>\n",
       "    </tr>\n",
       "    <tr>\n",
       "      <th>2021-05-20</th>\n",
       "      <td>-108.2</td>\n",
       "      <td>-12.738854</td>\n",
       "      <td>-120.938854</td>\n",
       "      <td>9151.161146</td>\n",
       "      <td>16151.161146</td>\n",
       "      <td>-0.007432</td>\n",
       "    </tr>\n",
       "  </tbody>\n",
       "</table>\n",
       "<p>158 rows × 6 columns</p>\n",
       "</div>"
      ],
      "text/plain": [
       "              trans   external   trans_total            CS            RM  \\\n",
       "2020-11-26  17880.0 -12.738854  17867.261146  17867.261146  24867.261146   \n",
       "2020-11-27   -500.0 -12.738854   -512.738854  17354.522293  24354.522293   \n",
       "2020-11-30   -262.0 -12.738854   -274.738854  17079.783439  24079.783439   \n",
       "2020-12-01  16400.0 -12.738854  16387.261146  33467.044586  40467.044586   \n",
       "2020-12-02   -617.0 -12.738854   -629.738854  32837.305732  39837.305732   \n",
       "...             ...        ...           ...           ...           ...   \n",
       "2021-05-16   -312.1 -12.738854   -324.838854   9805.516561  16805.516561   \n",
       "2021-05-17   -126.3 -12.738854   -139.038854   9666.477707  16666.477707   \n",
       "2021-05-18   -243.7 -12.738854   -256.438854   9410.038854  16410.038854   \n",
       "2021-05-19   -125.2 -12.738854   -137.938854   9272.100000  16272.100000   \n",
       "2021-05-20   -108.2 -12.738854   -120.938854   9151.161146  16151.161146   \n",
       "\n",
       "                 PPC  \n",
       "2020-11-26       NaN  \n",
       "2020-11-27 -0.020619  \n",
       "2020-11-30 -0.011281  \n",
       "2020-12-01  0.680540  \n",
       "2020-12-02 -0.015562  \n",
       "...              ...  \n",
       "2021-05-16 -0.018963  \n",
       "2021-05-17 -0.008273  \n",
       "2021-05-18 -0.015387  \n",
       "2021-05-19 -0.008406  \n",
       "2021-05-20 -0.007432  \n",
       "\n",
       "[158 rows x 6 columns]"
      ]
     },
     "execution_count": 10,
     "metadata": {},
     "output_type": "execute_result"
    }
   ],
   "source": [
    "#analysis\n",
    "data['CS'] = data.trans_total.cumsum()\n",
    "data['RM'] = data.CS + max_budge \n",
    "data['PPC'] = [np.nan]+ [(data.RM.iloc[i]/data.RM.iloc[i-1]) -1   for i in range(1,len(data))]\n",
    "\n",
    "data\n",
    "\n"
   ]
  },
  {
   "cell_type": "markdown",
   "id": "marine-lease",
   "metadata": {},
   "source": [
    "### 5 - Creating summaries \n",
    "\n",
    "#### Explorartory \n",
    "\n",
    "Lets start by visualizing the actual transactions, we will also calculate the mean, maximum, and the smoothed average using the the Savitzky-Golay filter on a monthly basis of 31 days (this filter requires the duration to be always odd). "
   ]
  },
  {
   "cell_type": "code",
   "execution_count": 29,
   "id": "fleet-surge",
   "metadata": {},
   "outputs": [],
   "source": [
    "smooth_dur = 61 "
   ]
  },
  {
   "cell_type": "code",
   "execution_count": 30,
   "id": "professional-hobby",
   "metadata": {},
   "outputs": [
    {
     "data": {
      "image/png": "[encoded data removed]",
      "text/plain": [
       "<Figure size 720x504 with 1 Axes>"
      ]
     },
     "metadata": {
      "needs_background": "light"
     },
     "output_type": "display_data"
    }
   ],
   "source": [
    "#apply filter and and smooth\n",
    "data['Smooth'] = SF(data.RM,window_length=smooth_dur,polyorder=3)\n",
    "data['Maximum'] = data.shape[0]*[data.RM.max()]\n",
    "data['Mean'] = data.shape[0]*[data.RM.mean()]\n",
    "\n",
    "\n",
    "#ploting\n",
    "data[['RM','Smooth']].plot(figsize=(10,7))\n",
    "plt.legend()\n",
    "plt.xticks(rotation=40)\n",
    "plt.show()\n",
    "\n",
    "\n",
    "\n",
    "\n"
   ]
  },
  {
   "cell_type": "markdown",
   "id": "suitable-correction",
   "metadata": {},
   "source": [
    "Let's also check about how we are spending based on weekday"
   ]
  },
  {
   "cell_type": "markdown",
   "id": "czech-customer",
   "metadata": {},
   "source": [
    "It seems this guy is a Monday spender :D"
   ]
  },
  {
   "cell_type": "markdown",
   "id": "radio-shakespeare",
   "metadata": {},
   "source": [
    "#### Monthly report\n",
    "\n",
    "Now that we have the building blocks of our daily expenses, we can do an analysis for our periodic results. \n",
    "\n",
    "One way of doing that is to calculate the coefficient of variation or the relative standard deviation of the PPC. It gives you a nice idea about how much you about the gain and the loses on average, and tells you how dispersed they are with respect to other months. Check this video. \n",
    "\n",
    "https://www.youtube.com/watch?v=9dwLKGoaeEs&ab_channel=zedstatistics\n",
    "\n",
    "But in fact I'll be using it's inverse to have \n",
    "\n",
    "RSD = $\\Large\\frac{\\sigma}{\\mu}$  \n",
    "\n",
    "To have a better idea of it usefulness regarding your monthly expenses, I want to calculate it from the beginning of each month."
   ]
  },
  {
   "cell_type": "code",
   "execution_count": 33,
   "id": "surface-passenger",
   "metadata": {},
   "outputs": [
    {
     "data": {
      "text/plain": [
       "DatetimeIndex(['2020-12-01', '2021-01-01', '2021-02-01', '2021-03-01',\n",
       "               '2021-04-01', '2021-05-01'],\n",
       "              dtype='datetime64[ns]', freq='MS')"
      ]
     },
     "execution_count": 33,
     "metadata": {},
     "output_type": "execute_result"
    }
   ],
   "source": [
    "periods = 'MS' #with pandas this activates 1st of months\n",
    "date_r = pd.date_range(start=data.index[0],end=data.index[-1],freq=periods)\n",
    "date_r"
   ]
  },
  {
   "cell_type": "code",
   "execution_count": 34,
   "id": "meaning-croatia",
   "metadata": {
    "scrolled": false
   },
   "outputs": [
    {
     "name": "stdout",
     "output_type": "stream",
     "text": [
      "period 0: [2020-12-01, 2021-01-01] = 27 --> RSD = 18.34106899442672\n",
      "period 1: [2021-01-01, 2021-02-01] = 28 --> RSD = 35.15998401812905\n",
      "period 2: [2021-02-01, 2021-03-01] = 27 --> RSD = 17.639368712115324\n",
      "period 3: [2021-03-01, 2021-04-01] = 23 --> RSD = 9.323901576174544\n",
      "period 4: [2021-04-01, 2021-05-01] = 30 --> RSD = 8.245533432335588\n"
     ]
    },
    {
     "data": {
      "image/png": "[encoded data removed]",
      "text/plain": [
       "<Figure size 432x288 with 1 Axes>"
      ]
     },
     "metadata": {
      "needs_background": "light"
     },
     "output_type": "display_data"
    }
   ],
   "source": [
    "#calculate IRSDs\n",
    "RSD=[]\n",
    "for id,idx in enumerate(range(1,len(date_r))):\n",
    "    temp = data[(data.index<=date_r[idx]) & (data.index>date_r[idx-1])]\n",
    "    mean = np.nanmean(temp.PPC)\n",
    "    std = np.nanstd(temp.PPC)\n",
    "    rsd = std/mean \n",
    "    print(f\"period {id}: [{date_r[idx-1].date()}, {date_r[idx].date()}] = {temp.shape[0]} --> RSD = {rsd}\")\n",
    "    RSD.append(rsd)\n",
    "\n",
    "    \n",
    "plt.plot(RSD)\n",
    "plt.ylabel(\"RSD\")\n",
    "plt.xlabel(\"Month interval\")\n",
    "plt.show()\n",
    "\n"
   ]
  },
  {
   "cell_type": "markdown",
   "id": "organic-execution",
   "metadata": {},
   "source": [
    "#### Weekly analysis"
   ]
  },
  {
   "cell_type": "code",
   "execution_count": 35,
   "id": "amazing-medicare",
   "metadata": {},
   "outputs": [
    {
     "data": {
      "image/png": "[encoded data removed]",
      "text/plain": [
       "<Figure size 432x288 with 1 Axes>"
      ]
     },
     "metadata": {
      "needs_background": "light"
     },
     "output_type": "display_data"
    }
   ],
   "source": [
    "#encode days\n",
    "cats = [ 'Monday', 'Tuesday', 'Wednesday', 'Thursday', 'Friday', 'Saturday', 'Sunday']\n",
    "\n",
    "#check for expenses on weekly\n",
    "data_comp['weekday'] = [ dt.datetime.strftime(x, '%A') for x in data_comp.date]\n",
    "data_week = data_comp.query(\"trans<0\").sort_values(by='weekday')\n",
    "\n",
    "ax=seaborn.boxplot(y=\"trans\",x=\"weekday\", data=data_week)\n",
    "plt.xticks(rotation=45)\n",
    "plt.show()"
   ]
  },
  {
   "cell_type": "markdown",
   "id": "instructional-mattress",
   "metadata": {},
   "source": [
    "# Conclusions\n",
    "\n",
    "We can see that this simulated sample above shows that the spending behavior is the highest regarding outliers during Mondays. This person's spending behaviour is deteriorating as the months go by and should start thinking about cutting there expenses "
   ]
  },
  {
   "cell_type": "code",
   "execution_count": null,
   "id": "million-section",
   "metadata": {},
   "outputs": [],
   "source": []
  }
 ],
 "metadata": {
  "kernelspec": {
   "display_name": "Python 3 (ipykernel)",
   "language": "python",
   "name": "python3"
  },
  "language_info": {
   "codemirror_mode": {
    "name": "ipython",
    "version": 3
   },
   "file_extension": ".py",
   "mimetype": "text/x-python",
   "name": "python",
   "nbconvert_exporter": "python",
   "pygments_lexer": "ipython3",
   "version": "3.7.6"
  }
 },
 "nbformat": 4,
 "nbformat_minor": 5
}
